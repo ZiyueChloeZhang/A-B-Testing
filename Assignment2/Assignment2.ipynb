{
 "cells": [
  {
   "cell_type": "markdown",
   "metadata": {},
   "source": [
    "# Exploratory Data Analysis and Visualization"
   ]
  },
  {
   "cell_type": "markdown",
   "metadata": {
    "tags": []
   },
   "source": [
    "## Dataset Description\n",
    "\n",
    "#### **Description**:\n",
    "This dataset is for a marketing company to analyze the impact of advertising campaigns. It captures the details of individuals exposed to either a specific advertisement or a public service announcement. The dataset provides insights into whether the campaign led to a conversion, the number of ads seen by the individual, and details about the most active day and hour.\n",
    "\n",
    "#### **Data Collection**:\n",
    "The dataset is from kaggle: [Marketing A/B Testing Dataset](https://www.kaggle.com/datasets/faviovaz/marketing-ab-testing/). The data is collected from randomized experiments wherein two versions of a webpage element (advertisement or public service announcement) are shown to different segments of the audience.\n",
    "\n",
    "## Question\n",
    "> \"Do the company's advertisements generate a meaningful increase in purchase conversion rates when compared to those not exposed to the advertisements?\""
   ]
  },
  {
   "cell_type": "markdown",
   "metadata": {
    "vscode": {
     "languageId": "r"
    }
   },
   "source": []
  },
  {
   "cell_type": "markdown",
   "metadata": {},
   "source": [
    "# Exploratory Data Analysis and Visualization"
   ]
  },
  {
   "cell_type": "markdown",
   "metadata": {},
   "source": [
    "reads, clean and wrangle the data"
   ]
  },
  {
   "cell_type": "markdown",
   "metadata": {},
   "source": [
    "proposed visualization"
   ]
  },
  {
   "cell_type": "markdown",
   "metadata": {
    "tags": []
   },
   "source": [
    "any necessary libraries to install are made obvious that that the evaluator must install them; unused libraries are not installed"
   ]
  },
  {
   "cell_type": "markdown",
   "metadata": {
    "tags": []
   },
   "source": [
    "All external files are placed in a GitHub repository to be imported with appropriate code."
   ]
  },
  {
   "cell_type": "markdown",
   "metadata": {},
   "source": [
    "The submission includes a brief description of the data, a link to read in the data, and the question(s) of interest. This can be the same as submitted in assignment 1 or a revised version if needed."
   ]
  },
  {
   "cell_type": "markdown",
   "metadata": {
    "tags": []
   },
   "source": [
    "The proposed visualization is tells a story or helps the reader understand the data better. "
   ]
  },
  {
   "cell_type": "markdown",
   "metadata": {
    "tags": []
   },
   "source": [
    "All features of the plot (e.g., labels, title, scales, legends) are readable and informative."
   ]
  },
  {
   "cell_type": "markdown",
   "metadata": {},
   "source": [
    "The arguments that support and interpret the visualization are flawless and very well-reasoned, leaving no obvious gaps. Structure of argument is very clear and straightforward; the reader almost never has to jump back and forth unless clearly instructed to do so by references."
   ]
  },
  {
   "cell_type": "code",
   "execution_count": null,
   "metadata": {},
   "outputs": [],
   "source": []
  }
 ],
 "metadata": {
  "kernelspec": {
   "display_name": "R",
   "language": "R",
   "name": "ir"
  },
  "language_info": {
   "codemirror_mode": "r",
   "file_extension": ".r",
   "mimetype": "text/x-r-source",
   "name": "R",
   "pygments_lexer": "r",
   "version": "4.3.1"
  }
 },
 "nbformat": 4,
 "nbformat_minor": 4
}
