{
 "cells": [
  {
   "cell_type": "markdown",
   "metadata": {},
   "source": [
    "# Assignment 1: Data and Question(s)"
   ]
  },
  {
   "cell_type": "markdown",
   "metadata": {},
   "source": [
    "## Dataset Description\n",
    "\n",
    "#### **Description**:\n",
    "This dataset is for a marketing company to analyze the impact of advertising campaigns. It captures the details of individuals exposed to either a specific advertisement or a public service announcement. The dataset provides insights into whether the campaign led to a conversion, the number of ads seen by the individual, and details about the most active day and hour.\n",
    "\n",
    "#### **Data Collection**:\n",
    "The dataset is from kaggle: [Marketing A/B Testing Dataset](https://www.kaggle.com/datasets/faviovaz/marketing-ab-testing/). The data is collected from randomized experiments wherein two versions of a webpage element (advertisement or public service announcement) are shown to different segments of the audience."
   ]
  },
  {
   "cell_type": "code",
   "execution_count": 1,
   "metadata": {
    "vscode": {
     "languageId": "r"
    }
   },
   "outputs": [
    {
     "name": "stderr",
     "output_type": "stream",
     "text": [
      "Warning message in file(file, \"rt\"):\n",
      "\"cannot open file 'data/marketing_AB.csv': No such file or directory\"\n"
     ]
    },
    {
     "ename": "ERROR",
     "evalue": "Error in file(file, \"rt\"): cannot open the connection\n",
     "output_type": "error",
     "traceback": [
      "Error in file(file, \"rt\"): cannot open the connection\nTraceback:\n",
      "1. read.csv(\"data/marketing_AB.csv\")",
      "2. read.table(file = file, header = header, sep = sep, quote = quote, \n .     dec = dec, fill = fill, comment.char = comment.char, ...)",
      "3. file(file, \"rt\")"
     ]
    }
   ],
   "source": [
    "# read data\n",
    "data <- read.csv(\"data/marketing_AB.csv\")\n",
    "\n",
    "# summarize\n",
    "str(data)\n",
    "dim(data)\n",
    "summary(data)\n",
    "unique(data$test.group)"
   ]
  },
  {
   "cell_type": "markdown",
   "metadata": {},
   "source": [
    "#### **Dataset Composition**:\n",
    "- Number of Observations: 588101\n",
    "- Number of Variables: 7\n",
    "\n",
    "**Variables Description**:\n",
    "\n",
    "| Variable Name  | Data Type | Description                                                                                   | Cardinality|\n",
    "|----------------|-----------|-----------------------------------------------------------------------------------------------|----|\n",
    "| X          | Numeric   | Row index| [0, 588100]|\n",
    "| user id        | Numeric  | Unique identifier for each user.                                                             | N/A|\n",
    "| test group     | Norminal | The group the user belongs to. | 'ad'(the person saw the advertisement), 'psa'(they only saw the public service announcement)|\n",
    "| converted      | Boolean   | Indicates conversion. | \"True\" (if a person bought the product), \"False\"|\n",
    "| total ads      | Numeric   | Total number of ads seen by the user.                                                         |[1, 2065]\n",
    "| most ads day   | Norminal/Date | The day on which the user viewed the most number of ads.|\"Monday\", \"Tuesday\", \"Wednesday\", \"Thursday\", \"Friday\", \"Saturday\", \"Sunday\"|                                      |\n",
    "| most ads hour  | Numeric   | The hour of the day when the user viewed the most ads.                                        | [0, 23]"
   ]
  },
  {
   "cell_type": "markdown",
   "metadata": {},
   "source": [
    "## Question\n",
    "> \"Do the company's advertisements generate a meaningful increase in purchase conversion rates when compared to those not exposed to the advertisements?\"\n",
    "\n",
    "Response Variable:\n",
    "- `Conversion Rate`: The proportion of users who make a purchase after being exposed to either the advertisement or the public service announcement (or no ad). It's calculated as the number of conversions (purchases) divided by the total number of users exposed. This is not a variable that is in the dataset, it needs to be calculated.\n",
    "\n",
    "Explanatory Variable:\n",
    "- `Test Group`: This variable will show if a person was exposed to the company's advertisement or the PSA (or no ad). The two categories here are for the A/B test comparison.\n",
    "  \n",
    "\n",
    "The dataset provides information about individual user exposure to ads (or lack thereof) and their resultant purchasing behavior. By comparing the conversion rates between those exposed to the company's advertisements and those not (or exposed to a PSA), we can determine the efficacy of the company's ads in driving sales. If the conversion rate is significantly higher in the group exposed to the company's ads compared to the control group, it would indicate that the ads have a positive impact on purchase behavior.\n",
    "\n",
    "The question aims to understand the causal relationship between exposure to the company's ads and the likelihood of making a purchase. It is focused on **inference** because we want to know if and how the explanatory variable (user watch ads) influences the response (conversion rate)."
   ]
  },
  {
   "cell_type": "markdown",
   "metadata": {},
   "source": []
  }
 ],
 "metadata": {
  "kernelspec": {
   "display_name": "R",
   "language": "R",
   "name": "ir"
  },
  "language_info": {
   "codemirror_mode": "r",
   "file_extension": ".r",
   "mimetype": "text/x-r-source",
   "name": "R",
   "pygments_lexer": "r",
   "version": "4.3.1"
  }
 },
 "nbformat": 4,
 "nbformat_minor": 2
}
